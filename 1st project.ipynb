{
 "cells": [
  {
   "cell_type": "markdown",
   "id": "9abaf6a7-04d9-4061-98fe-95c7ba077802",
   "metadata": {},
   "source": [
    "# 1) Explain the key features of Python that make it a popular choice for programming\n",
    "\n",
    "Ans:- Python is very popular choice for programming because, it is a very easy coading language that is very easy to read and understand, it supports every platforms like windows,mac and linux. That is why python is very popular for programming."
   ]
  },
  {
   "cell_type": "code",
   "execution_count": null,
   "id": "4c604c07-0a03-4ae8-87fd-e1a608d57922",
   "metadata": {},
   "outputs": [],
   "source": [
    "# 2) Describe the role of predefined keywords in Python and provide examples of how they are used in a program\n",
    "\n",
    "#Ans:- Predifined keywords are reserved words in python that have some special work. It cannot be used as variable names. if,elif, else is the mostcommon examples of predifined keywords\n"
   ]
  },
  {
   "cell_type": "code",
   "execution_count": 39,
   "id": "a6295559-13df-4b39-a5ab-cf7c24a67925",
   "metadata": {},
   "outputs": [
    {
     "name": "stdout",
     "output_type": "stream",
     "text": [
      "Pass\n"
     ]
    }
   ],
   "source": [
    "#example\n",
    "\n",
    "\n",
    "marks = 50\n",
    "\n",
    "if marks < 25:\n",
    "    print(\"Fail\")\n",
    "elif marks >= 25 and marks < 40:\n",
    "    print(\"Satisfactory\")\n",
    "else:\n",
    "    print(\"Pass\")"
   ]
  },
  {
   "cell_type": "code",
   "execution_count": null,
   "id": "e2ba58cb-f263-410c-aa54-6aab4697e30d",
   "metadata": {},
   "outputs": [],
   "source": [
    "# 3)  Compare and contrast mutable and immutable objects in Python with examples\n",
    "\n",
    "# Ans:- Mutable objects can be changed changed after created. ex:- List and dictionaries\n",
    "\n",
    "#       Immutable objects cannot be changed of modified after created. ex:- tuples, stings\n"
   ]
  },
  {
   "cell_type": "code",
   "execution_count": 40,
   "id": "453918a5-3b90-46f7-9615-5e6caa4a3a75",
   "metadata": {},
   "outputs": [
    {
     "name": "stdout",
     "output_type": "stream",
     "text": [
      "[10, 2, 3]\n"
     ]
    }
   ],
   "source": [
    "# example:\n",
    "\n",
    "#mutable\n",
    "\n",
    "list = [1,2,3]\n",
    "\n",
    "list[0]=10     #List is modified\n",
    "\n",
    "print (list)\n",
    "\n"
   ]
  },
  {
   "cell_type": "code",
   "execution_count": null,
   "id": "31ab9825-c300-429e-8314-88ca314cd429",
   "metadata": {},
   "outputs": [],
   "source": [
    "# immutable \n",
    "\n",
    "str_1= \"tajmahal\"\n",
    "str_1[0]= \"T\"        #str_1[0]= \"T\" TypeError: 'str' object does not support item assignment     \n",
    "print(str_1)"
   ]
  },
  {
   "cell_type": "code",
   "execution_count": null,
   "id": "c7923761-050d-4dd5-a8eb-42dda1d5ebbb",
   "metadata": {},
   "outputs": [],
   "source": [
    "# 4) Discuss the different types of operators in Python and provide examples of how they are used0\n",
    "\n",
    "Ans:- Their are 7 types of operators in python \n",
    "\n",
    "#Arithmetic operator:- (+,-,*) etc."
   ]
  },
  {
   "cell_type": "code",
   "execution_count": 2,
   "id": "b41f633c-d9e4-42e6-844e-14e31c7d005f",
   "metadata": {},
   "outputs": [
    {
     "data": {
      "text/plain": [
       "8"
      ]
     },
     "execution_count": 2,
     "metadata": {},
     "output_type": "execute_result"
    }
   ],
   "source": [
    "10-2"
   ]
  },
  {
   "cell_type": "code",
   "execution_count": null,
   "id": "4af579ab-d704-40d1-926e-c6357a561344",
   "metadata": {},
   "outputs": [],
   "source": [
    "#Assignment operator :- (=,+=,-=)"
   ]
  },
  {
   "cell_type": "code",
   "execution_count": 3,
   "id": "e772ddb6-aeed-4f6a-82aa-adab612d3914",
   "metadata": {},
   "outputs": [
    {
     "name": "stdout",
     "output_type": "stream",
     "text": [
      "15\n"
     ]
    }
   ],
   "source": [
    "a=10\n",
    "\n",
    "a+=5\n",
    "\n",
    "print(a)"
   ]
  },
  {
   "cell_type": "code",
   "execution_count": null,
   "id": "db14060a-a059-416f-9892-8f186925dc79",
   "metadata": {},
   "outputs": [],
   "source": [
    "# Comparison operator :- (<,>)"
   ]
  },
  {
   "cell_type": "code",
   "execution_count": 4,
   "id": "2c366d6e-0506-4232-b2d2-b4a7547c578f",
   "metadata": {},
   "outputs": [
    {
     "data": {
      "text/plain": [
       "False"
      ]
     },
     "execution_count": 4,
     "metadata": {},
     "output_type": "execute_result"
    }
   ],
   "source": [
    "a=10\n",
    "b=20\n",
    "\n",
    "a>b"
   ]
  },
  {
   "cell_type": "code",
   "execution_count": 5,
   "id": "06993326-f66b-4d6d-bb98-d7d23318ef12",
   "metadata": {},
   "outputs": [
    {
     "data": {
      "text/plain": [
       "True"
      ]
     },
     "execution_count": 5,
     "metadata": {},
     "output_type": "execute_result"
    }
   ],
   "source": [
    "a<b"
   ]
  },
  {
   "cell_type": "code",
   "execution_count": null,
   "id": "2760f8b9-aae8-4710-9ea4-48ef286fbc39",
   "metadata": {},
   "outputs": [],
   "source": [
    "#Logical operator :- (and,or,not)"
   ]
  },
  {
   "cell_type": "code",
   "execution_count": 12,
   "id": "4d4c3dd5-0e4e-4dac-8ea5-79f2faa3150a",
   "metadata": {},
   "outputs": [
    {
     "name": "stdout",
     "output_type": "stream",
     "text": [
      "good student\n"
     ]
    }
   ],
   "source": [
    "marks=90\n",
    "got_passed=True\n",
    "\n",
    "if marks>=90 and got_passed:\n",
    "    print(\"good student\")\n",
    "else: \n",
    "     print(\"satisfactory\")"
   ]
  },
  {
   "cell_type": "code",
   "execution_count": null,
   "id": "8978e16e-82d8-46a2-9653-264e1b7b6e59",
   "metadata": {},
   "outputs": [],
   "source": [
    "#5) Bitwise operator :- (&,^)"
   ]
  },
  {
   "cell_type": "code",
   "execution_count": 14,
   "id": "7f15895f-c6d2-4c01-b8c8-37639ab7966c",
   "metadata": {},
   "outputs": [
    {
     "data": {
      "text/plain": [
       "0"
      ]
     },
     "execution_count": 14,
     "metadata": {},
     "output_type": "execute_result"
    }
   ],
   "source": [
    "a=10\n",
    "b=20\n",
    "\n",
    "a&b"
   ]
  },
  {
   "cell_type": "code",
   "execution_count": null,
   "id": "5ed5e323-8d81-4f07-94bc-3803a2dc90ba",
   "metadata": {},
   "outputs": [],
   "source": [
    "#6) Identity Operator :- (is, is not)"
   ]
  },
  {
   "cell_type": "code",
   "execution_count": 5,
   "id": "2f5e6c60-2f45-4d0f-a707-9380b344ce38",
   "metadata": {},
   "outputs": [],
   "source": [
    "num1 = [1, 2, 3]\n",
    "num2 = [1, 2, 3]\n",
    "num3 = num1"
   ]
  },
  {
   "cell_type": "code",
   "execution_count": 6,
   "id": "02ccc9d7-2563-48ca-8a5b-7c7677b1c8ea",
   "metadata": {},
   "outputs": [
    {
     "name": "stdout",
     "output_type": "stream",
     "text": [
      "True\n"
     ]
    }
   ],
   "source": [
    "print(num1 is not num2)"
   ]
  },
  {
   "cell_type": "code",
   "execution_count": 7,
   "id": "553206a6-9491-436b-8a6c-82634bbb783a",
   "metadata": {},
   "outputs": [
    {
     "name": "stdout",
     "output_type": "stream",
     "text": [
      "False\n"
     ]
    }
   ],
   "source": [
    "print(num1 is num2)"
   ]
  },
  {
   "cell_type": "code",
   "execution_count": null,
   "id": "f5aaa307-7c4a-417c-9da0-e65f7580f629",
   "metadata": {},
   "outputs": [],
   "source": [
    "#7) Membership Operator :- (in, not in)"
   ]
  },
  {
   "cell_type": "code",
   "execution_count": 18,
   "id": "ad064592-b957-454c-a0c5-c21a18e7e066",
   "metadata": {},
   "outputs": [
    {
     "name": "stdout",
     "output_type": "stream",
     "text": [
      "True\n"
     ]
    }
   ],
   "source": [
    "list=[1,2,3]\n",
    "\n",
    "print(1 in list)"
   ]
  },
  {
   "cell_type": "code",
   "execution_count": 19,
   "id": "9d76433f-800e-4a70-bec5-3fdbcf6f83a1",
   "metadata": {},
   "outputs": [
    {
     "name": "stdout",
     "output_type": "stream",
     "text": [
      "False\n"
     ]
    }
   ],
   "source": [
    "print(6 in list)"
   ]
  },
  {
   "cell_type": "code",
   "execution_count": 21,
   "id": "2dc37a66-836b-41d3-a611-09251707fabf",
   "metadata": {},
   "outputs": [
    {
     "name": "stdout",
     "output_type": "stream",
     "text": [
      "1\n"
     ]
    }
   ],
   "source": [
    "#5) Explain the concept of type casting in Python with examples\n",
    "\n",
    "#Ans:- Type casting are basicaly 2 type \n",
    "\n",
    "# Explicit type casting :- Explicit type casting is when you manually specify the type conversion using Python's built-in functions like int(), float(), str(), bool(), etc.\n",
    "\n",
    "# Example:- Converting float to int\n",
    "\n",
    "a=1.23\n",
    "b=int(a)\n",
    "print(b)"
   ]
  },
  {
   "cell_type": "code",
   "execution_count": 22,
   "id": "1f8af99a-8352-44d0-9462-af6b8578d465",
   "metadata": {},
   "outputs": [
    {
     "name": "stdout",
     "output_type": "stream",
     "text": [
      "3\n"
     ]
    }
   ],
   "source": [
    "# converting int to str\n",
    "\n",
    "a=3\n",
    "b=str(a)\n",
    "print(b)"
   ]
  },
  {
   "cell_type": "code",
   "execution_count": 23,
   "id": "908d36f6-2071-45df-a990-9f1c34e7342e",
   "metadata": {},
   "outputs": [
    {
     "name": "stdout",
     "output_type": "stream",
     "text": [
      "<class 'str'>\n"
     ]
    }
   ],
   "source": [
    "print(type(b))"
   ]
  },
  {
   "cell_type": "code",
   "execution_count": 1,
   "id": "883ee3d2-289f-4d21-987a-bc3e73b309c1",
   "metadata": {},
   "outputs": [
    {
     "name": "stdout",
     "output_type": "stream",
     "text": [
      "123\n"
     ]
    }
   ],
   "source": [
    "# converting str to int\n",
    "\n",
    "a=\"123\"\n",
    "b=int(a)\n",
    "print(b)"
   ]
  },
  {
   "cell_type": "code",
   "execution_count": 3,
   "id": "9dd4ff0f-7a1e-4952-997d-c5f2da88cd92",
   "metadata": {},
   "outputs": [
    {
     "name": "stdout",
     "output_type": "stream",
     "text": [
      "<class 'int'>\n"
     ]
    }
   ],
   "source": [
    "print(type(b))"
   ]
  },
  {
   "cell_type": "code",
   "execution_count": 4,
   "id": "4c0413f7-d150-4932-bbce-1a817c0f9899",
   "metadata": {},
   "outputs": [
    {
     "name": "stdout",
     "output_type": "stream",
     "text": [
      "4.5\n"
     ]
    }
   ],
   "source": [
    "# Implicit type casting:- Implicit type casting happens automatically when python converts converts a small data type to a larger data dype. Python does this to avoid data loss.\n",
    "\n",
    "# Example:- converting int to float\n",
    "\n",
    "a= 2\n",
    "b= 2.5\n",
    "c= a+b\n",
    "print(c)"
   ]
  },
  {
   "cell_type": "code",
   "execution_count": 6,
   "id": "060e998b-0e58-42cf-8517-fe5bdc70238f",
   "metadata": {},
   "outputs": [
    {
     "name": "stdout",
     "output_type": "stream",
     "text": [
      "<class 'float'>\n"
     ]
    }
   ],
   "source": [
    "print(type (c))"
   ]
  },
  {
   "cell_type": "code",
   "execution_count": 17,
   "id": "199d8725-c22a-4041-915c-1f1485a12d85",
   "metadata": {},
   "outputs": [],
   "source": [
    "#6) How do conditional statements work in Python? Illustrate with examples\n",
    "\n",
    "#Ans:- Conditional statements in python allow you to execute different blocks of code based on certain conditions. Python has 3 conditional statement which is if, elif, else\n",
    "\n",
    "#Example:- if stament\n",
    "\n"
   ]
  },
  {
   "cell_type": "code",
   "execution_count": 19,
   "id": "61455dba-a180-4afe-a765-eace16a9e8e2",
   "metadata": {},
   "outputs": [
    {
     "name": "stdout",
     "output_type": "stream",
     "text": [
      "adult\n"
     ]
    }
   ],
   "source": [
    "age = 20\n",
    "if age >= 18:\n",
    "    print(\"adult\")"
   ]
  },
  {
   "cell_type": "code",
   "execution_count": 20,
   "id": "b6f9446c-9adb-4304-8380-6629cede0adf",
   "metadata": {},
   "outputs": [
    {
     "name": "stdout",
     "output_type": "stream",
     "text": [
      "minor\n"
     ]
    }
   ],
   "source": [
    "# if else statement\n",
    "\n",
    "age= 11\n",
    "if age>=18:\n",
    "    print(\"adult\")\n",
    "else:\n",
    "    print(\"minor\")\n"
   ]
  },
  {
   "cell_type": "code",
   "execution_count": 21,
   "id": "34378214-3253-4400-a680-fa0f299c08de",
   "metadata": {},
   "outputs": [
    {
     "name": "stdout",
     "output_type": "stream",
     "text": [
      "adlut\n"
     ]
    }
   ],
   "source": [
    "# if elif else \n",
    "\n",
    "\n",
    "age= 20\n",
    "if age<13:\n",
    "    print(\"child\")\n",
    "elif age<18:\n",
    "    print(\"teen\")\n",
    "else:\n",
    "    print(\"adlut\")"
   ]
  },
  {
   "cell_type": "code",
   "execution_count": 22,
   "id": "d3a82d7f-6435-4577-be78-72cc5730402c",
   "metadata": {},
   "outputs": [
    {
     "name": "stdout",
     "output_type": "stream",
     "text": [
      "mango\n",
      "straberry\n",
      "kiwi\n"
     ]
    }
   ],
   "source": [
    "#7)\n",
    "\n",
    "#Ans:- Loops are a fundamental programming concept that allows you to repeat a block of code multiple times, which can be useful for tasks like processing items in a list, repeating operations, or automating repetitive tasks. Python supports ywo type of loops for loop and while loop\n",
    "\n",
    "#Example:- Ittereting over a list\n",
    "\n",
    "fruits= [\"mango\",\"straberry\",\"kiwi\"]\n",
    "for fruit in fruits:\n",
    "    print(fruit)"
   ]
  },
  {
   "cell_type": "code",
   "execution_count": 5,
   "id": "3c6e8911-e7c6-44fb-8bc5-0db4d4c11545",
   "metadata": {},
   "outputs": [],
   "source": [
    "# Example with range"
   ]
  },
  {
   "cell_type": "code",
   "execution_count": 10,
   "id": "9c33b904-7434-4a19-b837-896a3ac20f3a",
   "metadata": {},
   "outputs": [
    {
     "name": "stdout",
     "output_type": "stream",
     "text": [
      "1\n",
      "2\n",
      "3\n",
      "4\n",
      "5\n"
     ]
    }
   ],
   "source": [
    "for i in range(1, 6):\n",
    "    print(i)\n",
    "\n",
    "\n"
   ]
  },
  {
   "cell_type": "code",
   "execution_count": null,
   "id": "ab2ee248-a6e6-4fb7-9765-53bc6bf477b6",
   "metadata": {},
   "outputs": [],
   "source": [
    "#Example with while loop"
   ]
  },
  {
   "cell_type": "code",
   "execution_count": 14,
   "id": "54acdc88-d945-4b65-a80f-1bdedea53d36",
   "metadata": {},
   "outputs": [
    {
     "name": "stdout",
     "output_type": "stream",
     "text": [
      "1\n",
      "2\n",
      "3\n",
      "4\n",
      "5\n"
     ]
    }
   ],
   "source": [
    "count=1\n",
    "while count <=5:\n",
    "    print(count)\n",
    "    count+=1"
   ]
  }
 ],
 "metadata": {
  "kernelspec": {
   "display_name": "Python 3 (ipykernel)",
   "language": "python",
   "name": "python3"
  },
  "language_info": {
   "codemirror_mode": {
    "name": "ipython",
    "version": 3
   },
   "file_extension": ".py",
   "mimetype": "text/x-python",
   "name": "python",
   "nbconvert_exporter": "python",
   "pygments_lexer": "ipython3",
   "version": "3.13.0rc1"
  }
 },
 "nbformat": 4,
 "nbformat_minor": 5
}
